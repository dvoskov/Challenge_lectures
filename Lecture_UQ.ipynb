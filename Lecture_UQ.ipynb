{
 "cells": [
  {
   "cell_type": "markdown",
   "metadata": {},
   "source": [
    "<img style=\"float: left;\" src=\"LectureUQ/Slide1.PNG\" width=\"100%\">"
   ]
  },
  {
   "cell_type": "markdown",
   "metadata": {},
   "source": [
    "<img style=\"float: left;\" src=\"LectureUQ/Slide2.PNG\" width=\"100%\">"
   ]
  },
  {
   "cell_type": "markdown",
   "metadata": {},
   "source": [
    "<img style=\"float: left;\" src=\"LectureUQ/Slide3.PNG\" width=\"100%\">"
   ]
  },
  {
   "cell_type": "markdown",
   "metadata": {},
   "source": [
    "<img style=\"float: left;\" src=\"LectureUQ/Slide4.PNG\" width=\"100%\">"
   ]
  },
  {
   "cell_type": "markdown",
   "metadata": {},
   "source": [
    "<img style=\"float: left;\" src=\"LectureUQ/Slide5.PNG\" width=\"100%\">"
   ]
  },
  {
   "cell_type": "markdown",
   "metadata": {},
   "source": [
    "<img style=\"float: left;\" src=\"LectureUQ/Slide6.PNG\" width=\"100%\">"
   ]
  },
  {
   "cell_type": "markdown",
   "metadata": {},
   "source": [
    "<img style=\"float: left;\" src=\"LectureUQ/Slide7.PNG\" width=\"100%\">"
   ]
  },
  {
   "cell_type": "markdown",
   "metadata": {},
   "source": [
    "<img style=\"float: left;\" src=\"LectureUQ/Slide8.PNG\" width=\"100%\">"
   ]
  },
  {
   "cell_type": "markdown",
   "metadata": {},
   "source": [
    "## <span style=\"color:red\">Exercise 1: Uncertainties in geothermal production</span>"
   ]
  },
  {
   "cell_type": "markdown",
   "metadata": {},
   "source": [
    "## Consider geothermal production from reservoir filled with water:\n",
    " * Depth of reservoir: 2000 m\n",
    " * Tickness of reservoir: 80 m\n",
    " * Porosity: 20%\n",
    " * Well separation is 800 m \n",
    " * Production rate is 1000 m3/day\n",
    " * Permeability 50 mDarcy\n",
    " * Injection temperature T = 20 C\n",
    " * Well radius r = 0.15 m\n",
    " \n",
    "Uncertain parameters: porosity, initial temperature and brine density\n",
    "\n",
    "#### 1. Evaluate uncertainties in total energy production\n",
    "\n",
    "#### 2. Evaluate uncertainties in pumping energy"
   ]
  },
  {
   "cell_type": "code",
   "execution_count": null,
   "metadata": {},
   "outputs": [],
   "source": [
    "# 1 PJ = 1e12 kJ\n",
    "from math import pi\n",
    "import numpy as np\n",
    "\n",
    "phi = 0.20\n",
    "T_ini = 75 # or you can calculate based on the thermal gradient\n",
    "rho_w = 975 # kg/m3\n",
    "k   = 1e-12 * (0.01 + 3.2*phi**3 / (1-phi)**2)\n",
    "Q = 1000\n",
    "\n",
    "h = 80\n",
    "\n",
    "temp_inj = 20\n",
    "rho_r = 2500 # kg/m3\n",
    "C_w = 4   # kJ/kg/C\n",
    "C_r = 0.8532  # kJ/kg/C\n",
    "\n",
    "mu = 8.9e-4\n",
    "rw = 0.15   # m\n",
    "\n",
    "nu = 0.4\n",
    "\n",
    "day2sec = 86400\n",
    "energy_per_year = 0.1 * 1e15 # PJ to J\n",
    "\n",
    "\n",
    "l = 800  # well distance\n",
    "\n",
    "E = rho_w*C_w*(T_ini-temp_inj) # KJ/m3\n",
    "\n",
    "A = 400*80\n",
    "\n",
    "v = rho_w * C_w * Q / (rho_r * C_r * (1-phi) * A) # velocity m/day\n",
    "\n",
    "lt = l / v # m/day\n",
    "\n",
    "WI = 2 * np.pi * k * h / np.log(l/2/rw) / mu\n",
    "\n",
    "dp = Q / day2sec / WI / 1000 # pressure drop in kPa\n",
    "\n",
    "Ep = dp * Q / day2sec / nu # pumpimg energy in KJ/sec\n",
    "\n",
    "E_prod = lt * Q * E * 1e-12 # total PJ\n",
    "E_pump = lt * Ep * day2sec * 1e-12 # total PJ\n",
    "    \n",
    "print('Lifetime     = ' + str(lt/365) + ' years')\n",
    "print('Prod. energy = ' + str(E_prod) + ' PJ')\n",
    "print('Pump energy  = ' + str(E_pump) + ' PJ')"
   ]
  },
  {
   "cell_type": "code",
   "execution_count": null,
   "metadata": {},
   "outputs": [],
   "source": [
    "import matplotlib.pyplot as plt\n",
    "\n",
    "n_sample = 100\n",
    "\n",
    "# Your code here\n",
    "\n",
    "plt.hist(lt/365, 30)\n",
    "plt.show()"
   ]
  },
  {
   "cell_type": "code",
   "execution_count": null,
   "metadata": {},
   "outputs": [],
   "source": [
    "n_MC = 100\n",
    "e_pump = []\n",
    "e_prod = []\n",
    "\n",
    "for m in range(0, n_MC):\n",
    "    \n",
    "    # Your code here\n",
    "    \n",
    "    plt.plot(lt_average, '-', c='gray', linewidth=0.5)\n",
    "    \n",
    "plt.xscale('log')\n",
    "plt.xlim([1, n_sample])\n",
    "plt.xlabel('Monte Carlo samples')\n",
    "plt.ylabel('Lifetime / years')\n",
    "plt.show()"
   ]
  },
  {
   "cell_type": "code",
   "execution_count": null,
   "metadata": {},
   "outputs": [],
   "source": [
    "e_prod = np.reshape(e_prod, n_MC * n_sample)\n",
    "e_pump = np.reshape(e_pump, n_MC * n_sample)\n",
    "\n",
    "plt.figure(num=2, figsize=(12,4))\n",
    "plt.subplot(121)\n",
    "plt.hist(e_prod, 30)\n",
    "plt.subplot(122)\n",
    "plt.hist(e_pump, 30)\n",
    "plt.show()"
   ]
  },
  {
   "cell_type": "markdown",
   "metadata": {},
   "source": [
    "## <span style=\"color:red\">Exercise 2: Uncertainties in CO2 sequestration</span>"
   ]
  },
  {
   "cell_type": "markdown",
   "metadata": {},
   "source": [
    "#### Consider CO2 injection to water reservoir\n",
    " * Depth of reservoir: 2000 m\n",
    " * Area of reservoir: 4 by 4 km \n",
    " * Tickness of reservoir: 200 m\n",
    " * Initial pressure: 200 bars\n",
    " * Porosity: 20%\n",
    " * Rock compressibility: $10^{-5}$ 1/bar\n",
    " * Yearly CO2 rate: 100 Mm$^3$\n",
    " * Uplift limit: 20 cm\n",
    " \n",
    "Uncertain parameters: reservoir dimensions, initial temperature and injection rate\n",
    "\n",
    "#### 1. Evaluate uncertainties in total mass injected\n"
   ]
  },
  {
   "cell_type": "code",
   "execution_count": null,
   "metadata": {},
   "outputs": [],
   "source": [
    "import numpy as np\n",
    "def props(component, params):\n",
    "    properties = [[\"C1\",    \"CO2\",   \"N2\",    \"H2S\",   \"C2\",    \"C3\"],       # component\n",
    "                  [190.58,  304.10,  126.20,  373.53,  305.32,  369.8],  # T_c [K]\n",
    "                  [46.04,   73.75,   34.00,   89.63,   48.72,   42.45],       # p_c [bar]\n",
    "                  [0.012,   0.239,   0.0377,  0.0942,  0.0995,  0.1524],    # acentric factor [-]\n",
    "                  [16.043,  44.01,   28.013,  34.076,  30.07,   44.097],    # molecular mass [g/mol]\n",
    "                  [0.28473, 0.27408, 0.29115, 0.28195, 0.28463, 0.27616]]    # critical compressibility factors\n",
    "                                                             \n",
    "    name = [\"Tc\", \"Pc\", \"ac\", \"Mw\", \"Zc\"]\n",
    "    index1 = name.index(params) + 1\n",
    "    index2 = properties[0][:].index(component)\n",
    "    c = properties[index1][index2]\n",
    "\n",
    "    return c\n",
    "\n",
    "\n",
    "def binary(component, components):\n",
    "    # binary interaction parameters for CH4, CO2 ...    \n",
    "    # binary interaction parameters for CH4, CO2 ...    \n",
    "    dij = [[\"CO2\", \"C1\", \"N2\", \"H2S\", \"C2\", \"C3\"],  # from Aspen plus (DOI 10.1016/j.fluid.2016.06.012)\n",
    "           [ 0,       0.100,  -0.017,   0.0974,   0.1,   0.1 ],\n",
    "           [ 0.100,   0,       0.0311,  0.0503,   0,     0   ],\n",
    "           [-0.017,   0.0311,  0,       0.1767,   0.1,   0.1 ],\n",
    "           [ 0.0974,  0.0503,  0.1767,  0,        0.05,  0.05],\n",
    "           [ 0.1,     0,       0.1,     0.05,     0,     0   ],\n",
    "           [ 0.1,     0,       0.1,     0.05,     0,     0   ]]  \n",
    "\n",
    "    d = []\n",
    "    index1 = dij[0].index(component) + 1\n",
    "    for c in components:\n",
    "        index2 = dij[0].index(c)\n",
    "        d.append(dij[index1][index2])\n",
    "        \n",
    "    return d\n",
    "\n",
    "\n",
    "def vapour_compress(p, T, x, components):\n",
    "    # Peng-Robinson EoS\n",
    "    NC = np.size(x)\n",
    "    R = 8.3145E-5\n",
    "\n",
    "    b = 0\n",
    "    ai = np.zeros(NC)\n",
    "    for i in range(0, np.size(ai)):\n",
    "        Tc = props(components[i], \"Tc\")\n",
    "        Pc = props(components[i], \"Pc\")\n",
    "        ac = props(components[i], \"ac\")\n",
    "        kappa = 0.37464 + 1.54226*ac - 0.26992*ac**2\n",
    "        alpha = (1+kappa*(1-np.sqrt(T/Tc)))**2\n",
    "        ai[i] = 0.45724*R**2*Tc**2*alpha/Pc\n",
    "        b += 0.0778*R*Tc/Pc*x[i]\n",
    "\n",
    "    a = 0\n",
    "    for i in range(0, NC):\n",
    "        d = binary(components[i], components)\n",
    "        for j in range(0, NC):            \n",
    "            aij = np.sqrt(ai[i]*ai[j])*(1-d[j])\n",
    "            a += aij*x[i]*x[j]\n",
    "\n",
    "    A = a*p/(R**2*T**2)\n",
    "    B = b*p/(R*T)\n",
    "\n",
    "    # solve for compressibility Z\n",
    "    Z = np.roots([1, -(1-B), A-3*B**2-2*B, -(A*B-B**2-B**3)])  # 3 real roots: take max\n",
    "\n",
    "    if np.sum(np.imag(Z) == 0) == 1:\n",
    "        index = np.nonzero(np.imag(Z) == 0)  # find real root\n",
    "        Z_out = np.real(Z[index])   # Z reduces to only the real root\n",
    "        phi_c = np.zeros(NC)\n",
    "    else:\n",
    "        Z_out = np.amax(Z)\n",
    "\n",
    "    return Z_out"
   ]
  },
  {
   "cell_type": "code",
   "execution_count": null,
   "metadata": {},
   "outputs": [],
   "source": [
    "rock_compr  = 1e-5 # 1/bars\n",
    "water_compr = 1e-5 # 1/bars\n",
    "\n",
    "def calculate_rho_gas(p, temp, comp, y):\n",
    "    R = 8.1345e-2 # J/K/mol\n",
    "    M = 0\n",
    "    for i in range(len(comp)):\n",
    "        M += props(comp[i], 'Mw') * y[i]\n",
    "    Z = vapour_compress(p, temp, y, comp)\n",
    "    rho_gas = M * p / (Z * R * temp)\n",
    "    return rho_gas\n",
    " \n",
    "def calculate_poro(p):\n",
    "    phi_0 = 0.2\n",
    "    p0 = 1\n",
    "    phi = phi_0 * (1 + rock_compr * (p - p0))\n",
    "    return phi\n",
    "\n",
    "def calculate_rho_water(p):\n",
    "    rhow_0 = 1000/18 # molar density of water at sc\n",
    "    p0 = 1\n",
    "    rho_water = rhow_0 * (1 + water_compr * (p - p_0))\n",
    "    return rho_water\n",
    "\n",
    "def calculate_dphi_drho_w(p):\n",
    "    h = 1e-4\n",
    "    dphi_drho = (calculate_poro(p+h) * calculate_rho_water(p+h) - \\\n",
    "        calculate_poro(p) * calculate_rho_water(p) ) / h\n",
    "    return dphi_drho\n",
    "\n",
    "def calculate_dphi_drho_g(p, t, comp, y):\n",
    "    h = 1e-4\n",
    "    dphi_drho = (calculate_poro(p+h) * calculate_rho_gas(p+h, t, comp, y) - \\\n",
    "        calculate_poro(p) * calculate_rho_gas(p, t, comp, y) ) / h\n",
    "    return dphi_drho"
   ]
  },
  {
   "cell_type": "code",
   "execution_count": null,
   "metadata": {
    "scrolled": true
   },
   "outputs": [],
   "source": [
    "h = 200\n",
    "volume = 16e6*h\n",
    "gas_injected_surf = 100e6\n",
    "p_0 = 200 # bar\n",
    "\n",
    "\n",
    "depth = 2000\n",
    "temp = 288 + 60\n",
    "\n",
    "comp = ['CO2']\n",
    "y = [1.0]\n",
    "\n",
    "year = 0\n",
    "p_vec = [p_0]\n",
    "t_vec = [0]\n",
    "s_vec = [0]\n",
    "p = p_0\n",
    "s = 0\n",
    "\n",
    "dt = 0.1\n",
    "\n",
    "subs = 0.0\n",
    "\n",
    "gas_mass = dt * gas_injected_surf * calculate_rho_gas(1, 288, comp, y)\n",
    "\n",
    "while subs < 0.2:\n",
    "\n",
    "    denom = s * calculate_dphi_drho_g(p, temp, comp, y) + (1 - s) \\\n",
    "        * calculate_dphi_drho_w(p) * calculate_rho_gas(p, temp, comp, y) / calculate_rho_water(p) \n",
    "    pn = p + gas_mass / denom / volume\n",
    "\n",
    "    dp = pn - p\n",
    "\n",
    "    s = s + dp * (1 - s) * calculate_dphi_drho_w(p) / calculate_rho_water(p) / calculate_poro(p)\n",
    "\n",
    "    subs += dp * rock_compr * h\n",
    "\n",
    "    year += dt\n",
    "    t_vec.append(year)\n",
    "    p_vec.append(pn)\n",
    "    s_vec.append(s)\n",
    "    p = pn\n",
    "    \n",
    "print(year)\n"
   ]
  },
  {
   "cell_type": "code",
   "execution_count": null,
   "metadata": {},
   "outputs": [],
   "source": [
    "import matplotlib.pyplot as plt\n",
    "n_sample = 100\n",
    "\n",
    "# Your code here\n",
    "\n",
    "plt.figure(num=2, figsize=(12,4))\n",
    "plt.subplot(121)\n",
    "plt.hist(year)\n",
    "plt.subplot(122)\n",
    "plt.hist(prod)\n",
    "plt.show()"
   ]
  }
 ],
 "metadata": {
  "kernelspec": {
   "display_name": "Python 3",
   "language": "python",
   "name": "python3"
  },
  "language_info": {
   "codemirror_mode": {
    "name": "ipython",
    "version": 3
   },
   "file_extension": ".py",
   "mimetype": "text/x-python",
   "name": "python",
   "nbconvert_exporter": "python",
   "pygments_lexer": "ipython3",
   "version": "3.6.5"
  }
 },
 "nbformat": 4,
 "nbformat_minor": 2
}
