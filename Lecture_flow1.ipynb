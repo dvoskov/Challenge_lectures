{
 "cells": [
  {
   "cell_type": "markdown",
   "metadata": {},
   "source": [
    "<img style=\"float: left;\" src=\"Lecture/Slide1.PNG\" width=\"100%\">"
   ]
  },
  {
   "cell_type": "markdown",
   "metadata": {},
   "source": [
    "<img style=\"float: left;\" src=\"Lecture/Slide2.PNG\" width=\"100%\">"
   ]
  },
  {
   "cell_type": "markdown",
   "metadata": {},
   "source": [
    "<img style=\"float: left;\" src=\"Lecture/Slide3.PNG\" width=\"100%\">"
   ]
  },
  {
   "cell_type": "markdown",
   "metadata": {},
   "source": [
    "<img style=\"float: left;\" src=\"Lecture/Slide4.PNG\" width=\"100%\">"
   ]
  },
  {
   "cell_type": "markdown",
   "metadata": {},
   "source": [
    "## <span style=\"color:red\">Exercise 1: Geothermal production</span>"
   ]
  },
  {
   "cell_type": "markdown",
   "metadata": {},
   "source": [
    "## Consider geothermal production from reservoir filled with water:\n",
    " * Depth of reservoir: 2000 m\n",
    " * Tickness of reservoir: 80 m\n",
    " * Porosity: 20%\n",
    " * Well separation is 800 m \n",
    " * Energy production 0.2PJ per year\n",
    " * Permeability 50 mDarcy\n",
    " * Injection temperature T = 20 C\n",
    " * Well radius r = 0.15 m\n",
    "\n",
    "#### 1. Evaluate how long will work geothermal doublet assuming it drains ~400 m of reservoir \n",
    "\n",
    "#### 2. How much electric energy it needs yearly with pump efficiency 40%?\n"
   ]
  },
  {
   "cell_type": "code",
   "execution_count": null,
   "metadata": {},
   "outputs": [],
   "source": [
    "# 1 PJ = 1e12 kJ\n",
    "from math import pi\n",
    "import numpy as np\n",
    "\n",
    "h = 80\n",
    "k = 50e-15\n",
    "phi = 0.20\n",
    " \n",
    "temp_inj = 20\n",
    "rho_w = 975 # kg/m3\n",
    "rho_r = 2500 # kg/m3\n",
    "C_w = 4   # kJ/kg/C\n",
    "C_r = 0.8532  # kJ/kg/C\n",
    "\n",
    "mu = 8.9e-4\n",
    "rw = 0.15   # m\n",
    "\n",
    "nu = 0.4\n",
    "\n",
    "day2sec = 86400\n",
    "energy_per_year = 0.1 * 1e15 # PJ to J\n",
    "\n",
    "T_ini = 75 # or you can calculate based on the thermal gradient\n",
    "\n",
    "l = 800  # well distance\n",
    "\n",
    "E = ?? # energy production KJ/m3\n",
    "\n",
    "Q = ?? # well rate m3/day\n",
    "\n",
    "WI = ?? \n",
    "\n",
    "A = ?? \n",
    "\n",
    "v = ?? # velocity m/day\n",
    "\n",
    "lt = ?? # in years\n",
    "\n",
    "dp = ?? # pressure drop in kPa\n",
    "\n",
    "Ep = ?? # pumpimg energy in KJ/sec\n",
    "convert = day2sec * 365 * 1e-12 # KJ/sec to PJ/year\n",
    "\n",
    "print('   Velocity = ' + str(v)  + ' m/day')\n",
    "print('   Lifetime = ' + str(lt) + ' years')\n",
    "print('       Rate = ' + str(Q)  + ' m3/day')\n",
    "print('Pump energy = ' + str(Ep*convert) + ' PJ')"
   ]
  },
  {
   "cell_type": "markdown",
   "metadata": {},
   "source": [
    "<img style=\"float: left;\" src=\"Lecture/Slide13.PNG\" width=\"100%\">"
   ]
  },
  {
   "cell_type": "markdown",
   "metadata": {},
   "source": [
    "<img style=\"float: left;\" src=\"Lecture/Slide14.PNG\" width=\"100%\">"
   ]
  },
  {
   "cell_type": "markdown",
   "metadata": {},
   "source": [
    "<img style=\"float: left;\" src=\"Lecture/Slide15.PNG\" width=\"100%\">"
   ]
  },
  {
   "cell_type": "markdown",
   "metadata": {},
   "source": [
    "<img style=\"float: left;\" src=\"Lecture/Slide5.PNG\" width=\"100%\">"
   ]
  },
  {
   "cell_type": "markdown",
   "metadata": {},
   "source": [
    "<img style=\"float: left;\" src=\"Lecture/Slide6.PNG\" width=\"100%\">"
   ]
  },
  {
   "cell_type": "markdown",
   "metadata": {},
   "source": [
    "<img style=\"float: left;\" src=\"Lecture/Slide7.PNG\" width=\"100%\">"
   ]
  },
  {
   "cell_type": "markdown",
   "metadata": {},
   "source": [
    "<img style=\"float: left;\" src=\"Lecture/Slide8.PNG\" width=\"100%\">"
   ]
  },
  {
   "cell_type": "markdown",
   "metadata": {},
   "source": [
    "<img style=\"float: left;\" src=\"Lecture/Slide9.PNG\" width=\"100%\">"
   ]
  },
  {
   "cell_type": "markdown",
   "metadata": {},
   "source": [
    "<img style=\"float: left;\" src=\"Lecture/Slide10.PNG\" width=\"100%\">"
   ]
  },
  {
   "cell_type": "markdown",
   "metadata": {},
   "source": [
    "<img style=\"float: left;\" src=\"Lecture/Slide11.PNG\" width=\"100%\">"
   ]
  },
  {
   "cell_type": "markdown",
   "metadata": {},
   "source": [
    "<img style=\"float: left;\" src=\"Lecture/Slide12.PNG\" width=\"100%\">"
   ]
  },
  {
   "cell_type": "markdown",
   "metadata": {},
   "source": [
    "## <span style=\"color:red\">Exercise 2: Well test interpretation</span>"
   ]
  },
  {
   "cell_type": "code",
   "execution_count": null,
   "metadata": {},
   "outputs": [],
   "source": [
    "# import the packages we need in this exercise\n",
    "import numpy as np\n",
    "from math import pi, e\n",
    "import matplotlib.pyplot as plt\n",
    "\n",
    "font = {'family': 'serif',\n",
    "        'color':  'darkred',\n",
    "        'weight': 'normal',\n",
    "        'size': 16,\n",
    "        }\n",
    "\n",
    "# Additional measured data\n",
    "B   = 1.0         # volume factor, V_res/V_surf\n",
    "mu  = 1           # viscosity, unit: cp\n",
    "comp= 1e-10       # compressibility , 1/Pa\n",
    "h   = 75          # thickness, unit: m\n",
    "q   = 600         # rate, unit: m3/d\n",
    "rw  = 0.1         # well radius, unit: m\n",
    "\n",
    "# convert unit to SI unit\n",
    "mu  = ??\n",
    "q   = ??\n",
    "\n",
    "# load pressure and time data from the .txt file and plot pressure vs time\n",
    "pressure = ??\n",
    "time = ??\n",
    "plt.figure(figsize=(15, 7))\n",
    "plt.plot(time, pressure,'r')\n",
    "plt.title('pressure vs. time', fontdict=font)\n",
    "plt.xlabel('time / s', fontdict=font)\n",
    "plt.ylabel('pressure / Pa', fontdict=font)\n",
    "plt.show()"
   ]
  },
  {
   "cell_type": "code",
   "execution_count": null,
   "metadata": {},
   "outputs": [],
   "source": [
    "# step 1: find when the pressure starts to build up\n",
    "\n",
    "### your code here ###\n",
    "\n",
    "plt.figure(figsize=(15, 7))\n",
    "plt.semilogx(time[:ind+1], pressure_drop,'r')\n",
    "plt.title('pressure vs. log(time)', fontdict=font)\n",
    "plt.xlabel('log(time / s)', fontdict=font)\n",
    "plt.ylabel('pressure / Pa', fontdict=font)\n",
    "plt.show()"
   ]
  },
  {
   "cell_type": "code",
   "execution_count": null,
   "metadata": {
    "scrolled": true
   },
   "outputs": [],
   "source": [
    "# Step 2: from the pressure drawdown curve to distinguish the flow regimes\n",
    "# from the curve, we can find, from 500 s, it's already a straight line, which means it's transient flow. \n",
    "# Before that, it's the effect of wellbore storage. And after 50000s, pressure starts to decrease quickly. \n",
    "# This is the late transient flow now from the time table, we can find the index of these two time points \n",
    "# then linear regression for transient flow using least square\n",
    "\n",
    "### your code here ###\n",
    "\n",
    "# transient flow \n",
    "P = pressure_transient\n",
    "T = time[ind_start:ind_end]\n",
    "\n",
    "num_coef = ??\n",
    "num_points = ??\n",
    "\n",
    "# Now regress data to line\n",
    "\n",
    "### your code here ###\n",
    "\n",
    "# visualize the results\n",
    "plt.figure(figsize=(15, 7))\n",
    "plt.semilogx(time[:ind_start], pressure_wellbore,'g*-',time[ind_start:ind_end], pressure_transient,'bd-',\n",
    "            time[ind_end:ind+1], pressure_late,'ko-')\n",
    "plt.semilogx(T,pressure_fit,'r')\n",
    "plt.legend(['Wellbore storage effect','Trasient flow','Late trasient flow','Linear regression'],fontsize = 15)\n",
    "plt.title('pressure vs. time', fontdict=font)\n",
    "plt.xlabel('time / s', fontdict=font)\n",
    "plt.ylabel('pressure / Pa', fontdict=font)\n",
    "plt.show()\n",
    "\n",
    "# calculate permeability from pw = -mlnt + const\n",
    "\n",
    "### your code here ###\n",
    "\n",
    "print(\"Permeability = \"+str(k)+\" mDarcy\")\n"
   ]
  }
 ],
 "metadata": {
  "kernelspec": {
   "display_name": "Python 3",
   "language": "python",
   "name": "python3"
  },
  "language_info": {
   "codemirror_mode": {
    "name": "ipython",
    "version": 3
   },
   "file_extension": ".py",
   "mimetype": "text/x-python",
   "name": "python",
   "nbconvert_exporter": "python",
   "pygments_lexer": "ipython3",
   "version": "3.6.5"
  }
 },
 "nbformat": 4,
 "nbformat_minor": 2
}
